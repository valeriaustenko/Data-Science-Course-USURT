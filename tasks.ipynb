{
  "nbformat": 4,
  "nbformat_minor": 0,
  "metadata": {
    "kernelspec": {
      "display_name": "Python 3",
      "language": "python",
      "name": "python3"
    },
    "language_info": {
      "codemirror_mode": {
        "name": "ipython",
        "version": 3
      },
      "file_extension": ".py",
      "mimetype": "text/x-python",
      "name": "python",
      "nbconvert_exporter": "python",
      "pygments_lexer": "ipython3",
      "version": "3.7.4"
    },
    "colab": {
      "name": "tasks",
      "provenance": [],
      "include_colab_link": true
    }
  },
  "cells": [
    {
      "cell_type": "markdown",
      "metadata": {
        "id": "view-in-github",
        "colab_type": "text"
      },
      "source": [
        "<a href=\"https://colab.research.google.com/github/valeriaustenko/Data-Science-Course-USURT/blob/master/tasks.ipynb\" target=\"_parent\"><img src=\"https://colab.research.google.com/assets/colab-badge.svg\" alt=\"Open In Colab\"/></a>"
      ]
    },
    {
      "cell_type": "code",
      "metadata": {
        "id": "iwMwesGUFBVc"
      },
      "source": [
        "import numpy as np\n",
        "import matplotlib.pyplot as plt\n",
        "\n",
        "import copy"
      ],
      "execution_count": null,
      "outputs": []
    },
    {
      "cell_type": "markdown",
      "metadata": {
        "id": "nRcBuJX_FBVk"
      },
      "source": [
        "# 100 практических задач с python\n",
        "<p>Курс \"Модели и методы интеллектуального анализа данных\"</p>\n",
        "<p>Чернышов Юрий</p>\n",
        "<p>к.ф.-м.н., доцент кафедры ИТЗИ УрГУПС (Екатеринбург)</p>\n",
        "<p>yuchernyshov@usurt.ru</p>"
      ]
    },
    {
      "cell_type": "markdown",
      "metadata": {
        "id": "Lmz5LIJiFBVl"
      },
      "source": [
        "# Оглавление <a name='toc'>\n",
        "    \n",
        "<ol>\n",
        "<li><a href='#intro'>Введение</a></li>\n",
        "<li><a href='#101'>10 простых алгоритмов</a></li>\n",
        "<li><a href='#sort'>Сортировка</a></li>\n",
        "<li><a href='#ML'>Машинное обучение</a></li>\n",
        "<li><a href='#genetics'>Генетические алгоритмы</a></li>\n",
        "<li><a href='#links'>Ссылки</a></li>\n",
        "</ol>\n"
      ]
    },
    {
      "cell_type": "markdown",
      "metadata": {
        "id": "01fpt_DDFBVm"
      },
      "source": [
        "# Введение <a name='intro'></a>"
      ]
    },
    {
      "cell_type": "markdown",
      "metadata": {
        "id": "VANilG9XFBVm"
      },
      "source": [
        "Язык Python был создан в 1991 году. В настоящее время интерес к использованию Python возрос в связи с большим количеством разработанных специализированных библиотек для отдельных задач, многочисленным сообществом разработчиков, а также применением Python для важных практических задач: математического моделирования, научных исследований, обработки данных и пр. Python является одним из основных инструментов при решении задач машинного обучения.\n",
        "\n",
        "Python - интерпретируемый язык программирования. Программа Python (также используется термин скрипт) состоит из команд, которые последовательно выполняются интерптетатором Python.\n",
        "\n",
        "Python проигрывает в скорости выполнения программ компилируемым языкам программирования (например, C), но имеет ряд преимуществ - наглядность, простота, лаконичность, популярность. Для быстрого предварительного исследования, моделирования, проверки гипотез, визуализации использование Python предпочтительнее."
      ]
    },
    {
      "cell_type": "markdown",
      "metadata": {
        "id": "cbXMJWqyFBVm"
      },
      "source": [
        "Документ состоит из 100 сложных задач, решаемых с помощью Python и соответствующих библиотек.\n",
        "\n",
        "Для удобства задачи разбиты на группы, к которым можно быстро перейти через <a href='#toc'>Оглавление</a>."
      ]
    },
    {
      "cell_type": "markdown",
      "metadata": {
        "id": "Kt8XKBy9FBVn"
      },
      "source": [
        "<a href='#toc'>Назад к Оглавлению</a>"
      ]
    },
    {
      "cell_type": "markdown",
      "metadata": {
        "id": "5nZQ5Ys-FBVn"
      },
      "source": [
        "# 10 простых алгоритмов <a name='101'></a>"
      ]
    },
    {
      "cell_type": "markdown",
      "metadata": {
        "id": "UA3XAEjoFbOz"
      },
      "source": [
        "### 1 Присваивание переменной \r\n",
        "\r\n",
        "На вход подается два числа. Нужно вывести сумму чисел."
      ]
    },
    {
      "cell_type": "code",
      "metadata": {
        "id": "sdJL7x6fFBVn",
        "colab": {
          "base_uri": "https://localhost:8080/"
        },
        "outputId": "f11297ac-b0e3-4f63-bbd3-67596e5ba608"
      },
      "source": [
        "a = int(input()) \r\n",
        "b = int(input()) \r\n",
        "s = a + b \r\n",
        "print(s) "
      ],
      "execution_count": null,
      "outputs": [
        {
          "output_type": "stream",
          "text": [
           
          ],
          "name": "stdout"
        }
      ]
    },
    {
      "cell_type": "markdown",
      "metadata": {
        "id": "zv2ywPZsGFm-"
      },
      "source": [
        "### 2 Использование условия if\r\n",
        "\r\n",
        "Даны два числа. Найти меньшее из них  и вывести его."
      ]
    },
    {
      "cell_type": "code",
      "metadata": {
        "id": "Go8y8kQlFBVo",
        "colab": {
          "base_uri": "https://localhost:8080/"
        },
        "outputId": "c1c848ca-430e-4b57-a663-63e554e90e0c"
      },
      "source": [
        "a = int(input())  \r\n",
        "b = int(input()) \r\n",
        "if a < b:  \r\n",
        "    print(a)  \r\n",
        "else:\r\n",
        "    print(b)"
      ],
      "execution_count": null,
      "outputs": [
        {
          "output_type": "stream",
          "text": [
         
          ],
          "name": "stdout"
        }
      ]
    },
    {
      "cell_type": "markdown",
      "metadata": {
        "id": "Mw5iQ2PsGTLi"
      },
      "source": [
        "### 3 Вычисления\r\n",
        "\r\n",
        "На вход подается действительное число. Вывести дробную часть числа."
      ]
    },
    {
      "cell_type": "code",
      "metadata": {
        "id": "14lbSjlWFBVo"
      },
      "source": [
        "x = float(input()) \r\n",
        "print(round(x - int(x),3)) "
      ],
      "execution_count": null,
      "outputs": []
    },
    {
      "cell_type": "markdown",
      "metadata": {
        "id": "goQu7elJHLds"
      },
      "source": [
        "### 4 Использование Цикла for\r\n",
        "\r\n",
        "На вход подается два числа. Вывести последовательность чисел от А до B включительно."
      ]
    },
    {
      "cell_type": "code",
      "metadata": {
        "id": "8fUi2kvcFZFL"
      },
      "source": [
        "a = int(input())\r\n",
        "b = int(input())\r\n",
        "for i in range(a, b + 1):\r\n",
        "    print(i)"
      ],
      "execution_count": null,
      "outputs": []
    },
    {
      "cell_type": "markdown",
      "metadata": {
        "id": "KoxGjB4NHM4R"
      },
      "source": [
        "### 5 Строки\r\n",
        "\r\n",
        "Использование среза строки"
      ]
    },
    {
      "cell_type": "code",
      "metadata": {
        "id": "2DcQZbv_FZYj",
        "colab": {
          "base_uri": "https://localhost:8080/"
        },
        "outputId": "4066a28c-1e2e-4398-8f64-c2a8eab70b5e"
      },
      "source": [
        "s = 'helloworld' \r\n",
        "print(s[1])     #выведет e\r\n",
        "print(s[-1])    #выведет d\r\n",
        "print(s[1:3])   #выведет el\r\n",
        "print(s[1:-1])  #выведет elloworl      \r\n",
        "print(s[:3])    #выведет hel  \r\n",
        "print(s[2:])    #выведет lloworld  \r\n",
        "print(s[:-1])   #выведет helloworl  \r\n",
        "print(s[::2])   #выведет hlool\r\n",
        "print(s[1::2])  #выведет elwrd\r\n",
        "print(s[::-1])  #выведет dlrowolleh"
      ],
      "execution_count": null,
      "outputs": [
        {
          "output_type": "stream",
          "text": [
      
          ],
          "name": "stdout"
        }
      ]
    },
    {
      "cell_type": "markdown",
      "metadata": {
        "id": "dwrJIgXHHNfp"
      },
      "source": [
        "### 6 Использование цикла While\r\n",
        "\r\n",
        "По данному целому числу найти все квадраты натуральных чисел, не превосходящие это число, в порядке возрастания."
      ]
    },
    {
      "cell_type": "code",
      "metadata": {
        "id": "IEWa_czNFZg7"
      },
      "source": [
        "n = int(input())\r\n",
        "i = 1\r\n",
        "while i**2 <= n:\r\n",
        "  print(i**2)\r\n",
        "  i +=1"
      ],
      "execution_count": null,
      "outputs": []
    },
    {
      "cell_type": "markdown",
      "metadata": {
        "id": "8E27OARJHN-N"
      },
      "source": [
        "### 7 Использование списков\r\n",
        "\r\n",
        "Вывести все элементы списка с четными индексами."
      ]
    },
    {
      "cell_type": "code",
      "metadata": {
        "id": "iVV6xTI_FZoD"
      },
      "source": [
        "a = input().split()\r\n",
        "for i in range(0,len(a),2):\r\n",
        "    print(a[i])"
      ],
      "execution_count": null,
      "outputs": []
    },
    {
      "cell_type": "markdown",
      "metadata": {
        "id": "9tDLm_AhHOd_"
      },
      "source": [
        "### 8 Применение функции\r\n",
        "\r\n",
        "Вычислить факториал числа используя функцию."
      ]
    },
    {
      "cell_type": "code",
      "metadata": {
        "id": "9RDezosEFanZ"
      },
      "source": [
        "def factorial(n):\r\n",
        "    res = 1\r\n",
        "    for i in range(1, n + 1):\r\n",
        "        res *= i\r\n",
        "    return res\r\n",
        "\r\n",
        "print(factorial(5)) #выведет 120\r\n",
        "print(factorial(8)) #выведет 40320"
      ],
      "execution_count": null,
      "outputs": []
    },
    {
      "cell_type": "markdown",
      "metadata": {
        "id": "zMBrw8rYHO4B"
      },
      "source": [
        "### 9 Использование множеств\r\n",
        "Даны два списка чисел. Вывести числа, входящие в оба списка."
      ]
    },
    {
      "cell_type": "code",
      "metadata": {
        "id": "EHupPLtbFa3-",
        "colab": {
          "base_uri": "https://localhost:8080/"
        },
        "outputId": "217e06b2-b758-4752-c3d2-b51a26ba7ff9"
      },
      "source": [
        "A = {1, 2, 3}\r\n",
        "B = {3, 2, 3, 1}\r\n",
        "res = A.union(B)\r\n",
        "print(res)"
      ],
      "execution_count": null,
      "outputs": [
        {
          "output_type": "stream",
          "text": [
           
          ],
          "name": "stdout"
        }
      ]
    },
    {
      "cell_type": "markdown",
      "metadata": {
        "id": "40rLS6q6ILZY"
      },
      "source": [
        "### 10 Исползование словарей\r\n",
        "\r\n",
        "Создание словаря и добавление новой записи."
      ]
    },
    {
      "cell_type": "code",
      "metadata": {
        "id": "aunKJWXcFa_e"
      },
      "source": [
        "student = {}\r\n",
        "s = \"Ivanov Ivan Ekaterinburg USURT 5 5 4 5 3\"\r\n",
        "s = s.split()\r\n",
        "student['LastName'] = s[0]\r\n",
        "student['Name'] = s[1]\r\n",
        "student['City'] = s[2]\r\n",
        "student['University'] = s[3]\r\n",
        "student['Marks'] = []\r\n",
        "for i in s[4:]:\r\n",
        "  student['Marks'].append(int(i))\r\n",
        "print(student)\r\n"
      ],
      "execution_count": null,
      "outputs": []
    },
    {
      "cell_type": "markdown",
      "metadata": {
        "id": "B_t7m6l-FBVo"
      },
      "source": [
        "<a href='#toc'>Назад к Оглавлению</a>"
      ]
    },
    {
      "cell_type": "markdown",
      "metadata": {
        "id": "cKonFuwaFBVo"
      },
      "source": [
        "# Сортировка <a name='sort'></a>"
      ]
    },
    {
      "cell_type": "markdown",
      "metadata": {
        "id": "qVcJXiQDFBVp"
      },
      "source": [
        "#### Пузырьковая сортировка"
      ]
    },
    {
      "cell_type": "code",
      "metadata": {
        "id": "s0-8QjXLFBVp"
      },
      "source": [
        ""
      ],
      "execution_count": null,
      "outputs": []
    },
    {
      "cell_type": "markdown",
      "metadata": {
        "id": "vXr412gIFBVq"
      },
      "source": [
        "#### Сортировка выбором"
      ]
    },
    {
      "cell_type": "code",
      "metadata": {
        "id": "3Cc8XbLPFBVq"
      },
      "source": [
        ""
      ],
      "execution_count": null,
      "outputs": []
    },
    {
      "cell_type": "markdown",
      "metadata": {
        "id": "RFX-1VlbFBVq"
      },
      "source": [
        "#### Пирамидальная сортировка"
      ]
    },
    {
      "cell_type": "code",
      "metadata": {
        "id": "zxRHwdJ2FBVq"
      },
      "source": [
        ""
      ],
      "execution_count": null,
      "outputs": []
    },
    {
      "cell_type": "markdown",
      "metadata": {
        "id": "eoxS8C52FBVr"
      },
      "source": [
        "<a href='#toc'>Назад к Оглавлению</a>"
      ]
    },
    {
      "cell_type": "markdown",
      "metadata": {
        "id": "--FGK_cZFBVr"
      },
      "source": [
        "# Алгоритмы оптимизации <a name='optimization'></a>"
      ]
    },
    {
      "cell_type": "markdown",
      "metadata": {
        "id": "1geNeclaFBVr"
      },
      "source": [
        "#### Венгерский алгоритм"
      ]
    },
    {
      "cell_type": "code",
      "metadata": {
        "id": "kVUzi4AYFBVr"
      },
      "source": [
        ""
      ],
      "execution_count": null,
      "outputs": []
    },
    {
      "cell_type": "markdown",
      "metadata": {
        "id": "0wDZbWuhFBVr"
      },
      "source": [
        "#### Задача об укладке рюкзака"
      ]
    },
    {
      "cell_type": "code",
      "metadata": {
        "id": "zbuxBnVWFBVs"
      },
      "source": [
        ""
      ],
      "execution_count": null,
      "outputs": []
    },
    {
      "cell_type": "markdown",
      "metadata": {
        "id": "r1-s3pwsFBVx"
      },
      "source": [
        "#### Транспортная задача"
      ]
    },
    {
      "cell_type": "code",
      "metadata": {
        "id": "js4mt-rLFBVx"
      },
      "source": [
        ""
      ],
      "execution_count": null,
      "outputs": []
    },
    {
      "cell_type": "markdown",
      "metadata": {
        "id": "0XxtmCfDFBVx"
      },
      "source": [
        "#### Задача коммивояжера"
      ]
    },
    {
      "cell_type": "code",
      "metadata": {
        "id": "vTlSJ7RgFBVy"
      },
      "source": [
        ""
      ],
      "execution_count": null,
      "outputs": []
    },
    {
      "cell_type": "markdown",
      "metadata": {
        "id": "fSXfKS5aFBVy"
      },
      "source": [
        "<a href='#toc'>Назад к Оглавлению</a>"
      ]
    },
    {
      "cell_type": "markdown",
      "metadata": {
        "id": "vJc6qHK3FBVy"
      },
      "source": [
        "# Машинное обучение <a name='ML'></a>"
      ]
    },
    {
      "cell_type": "code",
      "metadata": {
        "id": "Xug5ugW9FBVy"
      },
      "source": [
        ""
      ],
      "execution_count": null,
      "outputs": []
    },
    {
      "cell_type": "code",
      "metadata": {
        "id": "nt2yDCmcFBVy"
      },
      "source": [
        ""
      ],
      "execution_count": null,
      "outputs": []
    },
    {
      "cell_type": "markdown",
      "metadata": {
        "id": "5kmW2Zk6FBVz"
      },
      "source": [
        "<a href='#toc'>Назад к Оглавлению</a>"
      ]
    },
    {
      "cell_type": "markdown",
      "metadata": {
        "id": "z0J6R4tZFBVz"
      },
      "source": [
        "# Генетические алгоритмы <a name='genetics'></a>"
      ]
    },
    {
      "cell_type": "markdown",
      "metadata": {
        "id": "oGiT36_EFBVz"
      },
      "source": [
        "#### Создать алгоритм, который находит строку заданной длины, имеющей максимальную сумму цифр строки."
      ]
    },
    {
      "cell_type": "code",
      "metadata": {
        "id": "ZNWZj5ARFBVz"
      },
      "source": [
        "# длина строки\n",
        "l = 1000\n",
        "\n",
        "# размер популяции\n",
        "n = 1000\n",
        "\n",
        "population = np.array([[np.random.choice([0, 1]) for i in range(l)] for j in range(n)])"
      ],
      "execution_count": null,
      "outputs": []
    },
    {
      "cell_type": "code",
      "metadata": {
        "id": "SBepgIrnFBVz",
        "outputId": "3502e9f5-809c-4178-8f02-161a469c37f9"
      },
      "source": [
        "population.shape"
      ],
      "execution_count": null,
      "outputs": [
        {
          "output_type": "execute_result",
          "data": {
            "text/plain": [
              "(1000, 1000)"
            ]
          },
          "metadata": {
            "tags": []
          },
          "execution_count": 3
        }
      ]
    },
    {
      "cell_type": "code",
      "metadata": {
        "id": "b5HvQyg6FBV0"
      },
      "source": [
        "class Population():\n",
        "    \n",
        "    def __init__(self, length, size):\n",
        "        self.length = length\n",
        "        self.size = size\n",
        "        self.population = np.array([[np.random.choice([0, 1]) for i in range(length)] for j in range(size)])\n",
        "        \n",
        "    def choice(self):\n",
        "        pass\n",
        "\n",
        "    def cross(self):\n",
        "        pass\n",
        "    \n",
        "    def cross(self):\n",
        "        pass\n",
        "\n",
        "    def mutation(self):\n",
        "        pass\n",
        "    \n",
        "    def __str__(self):\n",
        "        return \"Class Population\""
      ],
      "execution_count": null,
      "outputs": []
    },
    {
      "cell_type": "code",
      "metadata": {
        "id": "BVSwcxp-FBV1"
      },
      "source": [
        "def selection(s):\n",
        "    tmp = []\n",
        "    m = 0\n",
        "    for i in range(s.shape[0]):\n",
        "        m += np.sum(s[i,:])\n",
        "    m /= s.shape[0]\n",
        "    for i in range(s.shape[0]):\n",
        "        if np.sum(s[i,:]) >= m:\n",
        "            tmp.append(s[i,:])\n",
        "    return np.array(tmp)\n",
        "        "
      ],
      "execution_count": null,
      "outputs": []
    },
    {
      "cell_type": "code",
      "metadata": {
        "id": "SHzMWIYGFBV1"
      },
      "source": [
        "result = copy.deepcopy(population)"
      ],
      "execution_count": null,
      "outputs": []
    },
    {
      "cell_type": "code",
      "metadata": {
        "id": "ZhIlKEv3FBV1",
        "outputId": "fbfb7f0b-f55e-40aa-c900-cd647c92f92c"
      },
      "source": [
        "%%time\n",
        "\n",
        "for _ in range(100):\n",
        "    result = selection(result)\n"
      ],
      "execution_count": null,
      "outputs": [
        {
          "output_type": "stream",
          "text": [
            "CPU times: user 1.52 s, sys: 8.02 ms, total: 1.52 s\n",
            "Wall time: 1.52 s\n"
          ],
          "name": "stdout"
        }
      ]
    },
    {
      "cell_type": "code",
      "metadata": {
        "id": "v-sc-nqlFBV1",
        "outputId": "4174bbd7-d5cd-4dc3-9ad4-c730f14ad70b"
      },
      "source": [
        "print(result.shape)"
      ],
      "execution_count": null,
      "outputs": [
        {
          "output_type": "stream",
          "text": [
            "(1, 1000)\n"
          ],
          "name": "stdout"
        }
      ]
    },
    {
      "cell_type": "code",
      "metadata": {
        "id": "mkpSzpvMFBV2",
        "outputId": "b8ae90b0-4043-4a12-caec-d57c1380c247"
      },
      "source": [
        "sorted(population, key=lambda x: np.sum(x), reverse=True)[:5]"
      ],
      "execution_count": null,
      "outputs": [
        {
          "output_type": "execute_result",
          "data": {
            "text/plain": [
              "[array([1, 1, 1, 1, 1, 1, 1, 1, 1, 1]),\n",
              " array([1, 1, 1, 1, 1, 1, 1, 1, 1, 1]),\n",
              " array([1, 1, 1, 1, 1, 1, 1, 1, 1, 1]),\n",
              " array([1, 1, 1, 1, 1, 1, 1, 1, 1, 1]),\n",
              " array([1, 1, 1, 1, 1, 1, 1, 1, 1, 1])]"
            ]
          },
          "metadata": {
            "tags": []
          },
          "execution_count": 53
        }
      ]
    },
    {
      "cell_type": "markdown",
      "metadata": {
        "id": "7SNoYmkKFBV2"
      },
      "source": [
        "<a href='#toc'>Назад к Оглавлению</a>"
      ]
    },
    {
      "cell_type": "markdown",
      "metadata": {
        "id": "e_UFRFVtFBV2"
      },
      "source": [
        "# Ссылки <a name='links'></a>"
      ]
    },
    {
      "cell_type": "markdown",
      "metadata": {
        "id": "hNvL3YZbFBV2"
      },
      "source": [
        "http://www.matplotlib.org - официальная страница проекта matplotlib.\n",
        "\n",
        "https://colab.research.google.com/ - интерактивная среда для программирования на python"
      ]
    },
    {
      "cell_type": "markdown",
      "metadata": {
        "id": "9ja60DdPFBV3"
      },
      "source": [
        "<a href='#toc'>Назад к Оглавлению</a>"
      ]
    }
  ]
}
